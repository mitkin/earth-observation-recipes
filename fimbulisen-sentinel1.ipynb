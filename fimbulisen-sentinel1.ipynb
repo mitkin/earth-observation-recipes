{
 "cells": [
  {
   "cell_type": "code",
   "execution_count": null,
   "metadata": {
    "collapsed": true
   },
   "outputs": [],
   "source": [
    "# Original script by Martin Raspaud\n",
    "# modified by Mikhail Itkin\n",
    "\n",
    "from datetime import datetime\n",
    "\n",
    "from satpy.scene import Scene\n",
    "from satpy.utils import debug_on\n",
    "\n",
    "from copy import deepcopy\n",
    "\n",
    "def logenh(data):\n",
    "    res = (np.log10(data / 5000.) - np.log10(0.0223)) /  (1.0 - np.log10(0.0223))\n",
    "    res[res < 0] = 0\n",
    "    return res\n",
    "\n",
    "debug_on()\n",
    "\n",
    "if __name__ == '__main__':\n",
    "\n",
    "    scn1 = Scene(\n",
    "        sensor='sar-c',\n",
    "        start_time=datetime(2017, 9, 19, 0, 0),\n",
    "        base_dir=\".\"\n",
    "    )\n",
    "\n",
    "    scn2 = Scene(\n",
    "        sensor='sar-c',\n",
    "        start_time=datetime(2017, 9, 19, 0, 0),\n",
    "        base_dir=\".\"\n",
    "    )\n",
    "    composite = 'hv'\n",
    "\n",
    "    scn1.load(['measurement'], polarization='hh')\n",
    "    scn2.load(['measurement'],  polarization='hv')\n",
    "    # scn.show(composite)\n",
    "\n",
    "    mx = 2000.\n",
    "\n",
    "    i = deepcopy(scn1.datasets['measurement'].data)\n",
    "    m = deepcopy(scn2.datasets['measurement'].data)\n",
    "\n",
    "    del scn1\n",
    "    del scn2\n",
    "\n",
    "    rs = mx - (mx - m) * (mx - i) / mx\n",
    "    data_g = ((mx - i) * m + rs) * i / mx\n",
    "\n",
    "    #data_hh = data_g\n",
    "\n",
    "\n",
    "    from trollimage.image import Image\n",
    "    img = Image((i, data_g, m), mode='RGB')\n",
    "\n",
    "    img.stretch((.2, .02))\n",
    "    img.save('ant.png')"
   ]
  }
 ],
 "metadata": {
  "kernelspec": {
   "display_name": "Python 2",
   "language": "python",
   "name": "python2"
  },
  "language_info": {
   "codemirror_mode": {
    "name": "ipython",
    "version": 2
   },
   "file_extension": ".py",
   "mimetype": "text/x-python",
   "name": "python",
   "nbconvert_exporter": "python",
   "pygments_lexer": "ipython2",
   "version": "2.7.12+"
  }
 },
 "nbformat": 4,
 "nbformat_minor": 2
}
